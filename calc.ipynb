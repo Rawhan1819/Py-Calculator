{
 "cells": [
  {
   "cell_type": "code",
   "execution_count": null,
   "id": "38f01ca8-14e2-4e5f-99f7-f6002a8869a9",
   "metadata": {},
   "outputs": [
    {
     "name": "stdout",
     "output_type": "stream",
     "text": [
      "Welcome to the Python Calculator!\n",
      "\n",
      "Select operation:\n",
      "1. Add\n",
      "2. Subtract\n",
      "3. Multiply\n",
      "4. Divide\n"
     ]
    }
   ],
   "source": [
    "def add(x, y):\n",
    "    return x + y\n",
    "\n",
    "def subtract(x, y):\n",
    "    return x - y\n",
    "\n",
    "def multiply(x, y):\n",
    "    return x * y\n",
    "\n",
    "def divide(x, y):\n",
    "    try:\n",
    "        return x / y\n",
    "    except ZeroDivisionError:\n",
    "        return \"Error! Cannot divide by zero.\"\n",
    "def print_menu():\n",
    "    print(\"\\nSelect operation:\")\n",
    "    print(\"1. Add\")\n",
    "    print(\"2. Subtract\")\n",
    "    print(\"3. Multiply\")\n",
    "    print(\"4. Divide\")\n",
    "def get_input():\n",
    "    try:\n",
    "        choice = int(input(\"Enter choice (1/2/3/4): \"))\n",
    "        if choice not in (1, 2, 3, 4) :\n",
    "            print(\"Invalid input! Please enter a number between 1 and 4.\")\n",
    "            return None, None, None \n",
    "        num1 = float(input(\"Enter first number: \"))\n",
    "        num2 = float(input(\"Enter second number: \"))\n",
    "        return choice, num1, num2\n",
    "    except ValueError:\n",
    "        print(\"Invalid input! Please enter valid numbers.\")\n",
    "        return None, None, None\n",
    "def calculate():\n",
    "    print(\"Welcome to the Python Calculator!\")\n",
    "    while True:\n",
    "        print_menu()       \n",
    "        choice, num1, num2 = get_input()\n",
    "        if choice is None:\n",
    "            continue     \n",
    "        result = None \n",
    "        if choice == 1:\n",
    "            result = add(num1, num2)\n",
    "        elif choice == 2:\n",
    "            result = subtract(num1, num2)\n",
    "        elif choice == 3:\n",
    "            result = multiply(num1, num2)\n",
    "        elif choice == 4:\n",
    "            result = divide(num1, num2)      \n",
    "        if result is not None:\n",
    "            if isinstance(result, str): \n",
    "                print(result)\n",
    "            else:\n",
    "                if choice == 1:\n",
    "                    print(f\"{num1} + {num2} = {result}\")\n",
    "                elif choice == 2:\n",
    "                    print(f\"{num1} - {num2} = {result}\")\n",
    "                elif choice == 3:\n",
    "                    print(f\"{num1} * {num2} = {result}\")\n",
    "                elif choice == 4:\n",
    "                    print(f\"{num1} / {num2} = {result}\")\n",
    "        next_calculation = input(\"\\nDo you want to perform another calculation? (yes/no): \")\n",
    "        if next_calculation.lower()!= 'yes':\n",
    "            print(\"Exiting the calculator. Goodbye!\")\n",
    "            break\n",
    "if __name__ == \"__main__\":\n",
    "    calculate()"
   ]
  },
  {
   "cell_type": "code",
   "execution_count": null,
   "id": "a25ad60d-83b2-433f-b366-1cab76ffcb68",
   "metadata": {},
   "outputs": [],
   "source": []
  }
 ],
 "metadata": {
  "kernelspec": {
   "display_name": "Python 3 (ipykernel)",
   "language": "python",
   "name": "python3"
  },
  "language_info": {
   "codemirror_mode": {
    "name": "ipython",
    "version": 3
   },
   "file_extension": ".py",
   "mimetype": "text/x-python",
   "name": "python",
   "nbconvert_exporter": "python",
   "pygments_lexer": "ipython3",
   "version": "3.10.12"
  }
 },
 "nbformat": 4,
 "nbformat_minor": 5
}
